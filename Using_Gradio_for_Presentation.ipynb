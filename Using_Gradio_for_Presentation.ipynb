{
  "nbformat": 4,
  "nbformat_minor": 0,
  "metadata": {
    "colab": {
      "provenance": [],
      "authorship_tag": "ABX9TyP2wSucOpRwPZ03cfd3igTy",
      "include_colab_link": true
    },
    "kernelspec": {
      "name": "python3",
      "display_name": "Python 3"
    },
    "language_info": {
      "name": "python"
    }
  },
  "cells": [
    {
      "cell_type": "markdown",
      "metadata": {
        "id": "view-in-github",
        "colab_type": "text"
      },
      "source": [
        "<a href=\"https://colab.research.google.com/github/masoudshahrian/Machine-Learning-Code/blob/master/Using_Gradio_for_Presentation.ipynb\" target=\"_parent\"><img src=\"https://colab.research.google.com/assets/colab-badge.svg\" alt=\"Open In Colab\"/></a>"
      ]
    },
    {
      "cell_type": "code",
      "execution_count": null,
      "metadata": {
        "id": "lc4XQjujJS_-"
      },
      "outputs": [],
      "source": [
        "# Please turn on your VPN\n",
        "!pip install gradio\n",
        "import gradio as gr"
      ]
    },
    {
      "cell_type": "code",
      "source": [
        "\n",
        "# Import the result of recommender system\n",
        "def function_name(input_text):\n",
        "   result=recommendersystem(input_text) # Import function of recommendersystem\n",
        "  return result\n"
      ],
      "metadata": {
        "id": "oigFLbP-JZ6T"
      },
      "execution_count": null,
      "outputs": []
    },
    {
      "cell_type": "code",
      "source": [
        "interface=gr.Interface(fn=function_name,\n",
        "                       inputs=gr.inputs.Textbox(line=3, placeholder=\"text\"),outputs=\"text\")\n"
      ],
      "metadata": {
        "id": "xz8jT_ZFJycP"
      },
      "execution_count": null,
      "outputs": []
    },
    {
      "cell_type": "code",
      "source": [
        "interface.launch(share=true)"
      ],
      "metadata": {
        "id": "SS4E4CFpK_ei"
      },
      "execution_count": null,
      "outputs": []
    }
  ]
}